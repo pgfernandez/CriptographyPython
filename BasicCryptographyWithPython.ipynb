{
 "cells": [
  {
   "cell_type": "markdown",
   "metadata": {},
   "source": [
    "## Easy Criptography with Python\n",
    "\n",
    "Pedro Garcia. MIT License.\n",
    "\n",
    "Having the following simple letter to number conversion\n",
    "\n",
    "A=1\n",
    "B=2\n",
    "C=3\n",
    "D=4\n",
    "E=5\n",
    "F=6\n",
    "G=7\n",
    "H=8\n",
    "I=9\n",
    "J=10\n",
    "K=11\n",
    "L=12\n",
    "M=13\n",
    "N=14\n",
    "Ñ=15\n",
    "O=16\n",
    "P=17\n",
    "Q=18\n",
    "R=19\n",
    "S=20\n",
    "T=21\n",
    "U=22\n",
    "V=23\n",
    "W=24\n",
    "X=25\n",
    "Y=26\n",
    "Z=27\n",
    "space=28\n",
    "\n",
    "\n",
    "Let's encrypt the following spanish sentence (Linear Algebra with Python)\n",
    "\n",
    "'ALGEBRA LINEAL CON PYTHON'  \n",
    "1 12 7 5 2 19 1 28 12 9 14 5 1 12 18 3 16 14 28 17 26 21 8 16 14  \n",
    "\n",
    "As we are going to use a 3x3 matrix, grouped the numbers in three sets, and if more numbers are needed for completing, we use zeroes.\n",
    "\n",
    "(1,12,7) (5,2,19) (1,28,12) (9,14,5) (1,12,18) (3,16,14) (28,17,26) (21,8,16) (14,0,0)  \n",
    "\n",
    "The transformation to apply (the key) is:\n",
    "$A=\n",
    "  \\left[ {\\begin{array}{cc}\n",
    "   2 & 5 & 3\\\\\n",
    "   1 & 3 & 2\\\\\n",
    "   3 & 6 & 4\\\\\n",
    "  \\end{array} } \\right]$\n",
    "\n",
    "Let's discover the message and how to decrypt it\n",
    "  "
   ]
  },
  {
   "cell_type": "markdown",
   "metadata": {},
   "source": [
    "**METHOD 1. THE EASY ALGEBRAIC METHOD** (ZERO SOPHISTICATED)"
   ]
  },
  {
   "cell_type": "code",
   "execution_count": 1,
   "metadata": {},
   "outputs": [
    {
     "name": "stdout",
     "output_type": "stream",
     "text": [
      "Message before encryption [[ 1  5  1  9  1  3 28 21 14]\n",
      " [12  2 28 14 12 16 17  8  0]\n",
      " [ 7 19 12  5 18 14 26 16  0]]\n",
      "Encrypted message: [[ 83  77 178 103 116 128 219 130  28]\n",
      " [ 51  49 109  61  73  79 131  77  14]\n",
      " [103 103 219 131 147 161 290 175  42]]\n",
      "Decrypted Message [[ 1.  5.  1.  9.  1.  3. 28. 21. 14.]\n",
      " [12.  2. 28. 14. 12. 16. 17.  8.  0.]\n",
      " [ 7. 19. 12.  5. 18. 14. 26. 16.  0.]]\n"
     ]
    }
   ],
   "source": [
    "import numpy as np\n",
    "\n",
    "#the matrix transformation, the key\n",
    "key=np.array([\n",
    "   [2,5,3],\n",
    "   [1,3,2],\n",
    "   [3,6,4]\n",
    "   ])\n",
    "\n",
    "message=np.matrix([\n",
    "   [1,5,1,9,1,3,28,21,14],\n",
    "   [12,2,28,14,12,16,17,8,0],\n",
    "   [7,19,12,5,18,14,26,16,0]\n",
    "])\n",
    "\n",
    "print(\"Message before encryption\", message)\n",
    "\n",
    "#encrypt the message\n",
    "messageEncrypted=key*message\n",
    "print(\"Encrypted message:\", messageEncrypted)\n",
    "\n",
    "#key's inverse matrix for decrypt the message\n",
    "keyInverseMatrix = np.matrix.round(np.linalg.inv(key))\n",
    "\n",
    "#Decrypt the message\n",
    "originalMessage = keyInverseMatrix * messageEncrypted\n",
    "print(\"Decrypted Message\", originalMessage)"
   ]
  },
  {
   "cell_type": "markdown",
   "metadata": {},
   "source": [
    "**METHOD 2. WITH A BASIC CRYPTOSYSTEM** (HILL MATRIX CYPHERER)"
   ]
  },
  {
   "cell_type": "markdown",
   "metadata": {},
   "source": [
    "STEP 1. Create a dictionary with the key:value relationship between the alphabet's letters and numbers. The 0 is needed because it could be a value in the matrix. "
   ]
  },
  {
   "cell_type": "code",
   "execution_count": 2,
   "metadata": {},
   "outputs": [],
   "source": [
    "dictionary={'A':1, 'B':2, 'C':3, 'D':4, 'E':5, 'F':6, 'G':7, 'H':8, 'I':9, 'J':10, 'K':11, 'L':12, 'M':13, \n",
    "             'N':14, 'Ñ':15, 'O':16, 'P':17, 'Q':18, 'R':19, 'S':20, 'T':21, 'U':22, 'V':23, 'W':24, 'X':25,\n",
    "             'Y':26, 'Z':27, ' ':28, '':0}"
   ]
  },
  {
   "cell_type": "markdown",
   "metadata": {},
   "source": [
    "STEP 2. The message and the key. If we use other matrix's dimensions, for algortihm reusability, we need to know the matrix's size."
   ]
  },
  {
   "cell_type": "code",
   "execution_count": 22,
   "metadata": {},
   "outputs": [
    {
     "name": "stdout",
     "output_type": "stream",
     "text": [
      "Key's matrix size:  (3, 3)\n"
     ]
    }
   ],
   "source": [
    "message='LINEAR ALGEBRA WITH PYTHON'\n",
    "#message='ALGEBRA LINEAL CON PYTHON'\n",
    "\n",
    "#key\n",
    "import numpy as np\n",
    "key=np.matrix([\n",
    "   [2,5,3],\n",
    "   [1,3,2],\n",
    "   [3,6,4]\n",
    "   ])\n",
    "\n",
    "#we need to keep the matrix's shape\n",
    "matrixSize=key.shape\n",
    "print(\"Key's matrix size: \", matrixSize)"
   ]
  },
  {
   "cell_type": "markdown",
   "metadata": {},
   "source": [
    "STEP 3. Letter to Number, Number to Letter functions."
   ]
  },
  {
   "cell_type": "code",
   "execution_count": 18,
   "metadata": {},
   "outputs": [],
   "source": [
    "#get the number by letter\n",
    "def letterToNumber(letter):\n",
    "    return dictionary[letter]\n",
    "\n",
    "#get letter by number\n",
    "def numberToLetter(number):\n",
    "    return (list(dictionary.keys())[list(dictionary.values()).index(int(number))])"
   ]
  },
  {
   "cell_type": "markdown",
   "metadata": {},
   "source": [
    "STEP 4. Function that transform the message into a matrix. It does in function of the message's size and matrix's size."
   ]
  },
  {
   "cell_type": "code",
   "execution_count": 19,
   "metadata": {},
   "outputs": [],
   "source": [
    "def messageToMatrix(message,keyMessageSize):\n",
    "    \n",
    "    messageSize=len(message)\n",
    "    \n",
    "    #number of zeroes for completing the matrix in case the message size does not\n",
    "    #fit perfectly with the matrix's size\n",
    "    zeroesToFill=3-messageSize%keyMessageSize\n",
    "    \n",
    "    #number of matrix columns\n",
    "    matrixColumns=int((messageSize+(zeroesToFill))/keyMessageSize)\n",
    "    \n",
    "    messageNumbered =[]\n",
    "    messageMatrix=np.zeros([keyMessageSize,matrixColumns])\n",
    "\n",
    "    #message to array of numbers\n",
    "    for i in range(len(message)):\n",
    "        messageNumbered=np.append(messageNumbered,letterToNumber(message[i]))\n",
    "\n",
    "    #complete to zeroes\n",
    "    for j in range(zeroesToFill):\n",
    "        messageNumbered=np.append(messageNumbered,0)\n",
    "    \n",
    "    #build the matrix\n",
    "    for z in range(keyMessageSize):\n",
    "        messageMatrix[z]=messageNumbered[matrixColumns*z:matrixColumns*(z+1)]\n",
    "\n",
    "    return messageMatrix"
   ]
  },
  {
   "cell_type": "markdown",
   "metadata": {},
   "source": [
    "STEP 5. Matrix to text function."
   ]
  },
  {
   "cell_type": "code",
   "execution_count": 20,
   "metadata": {},
   "outputs": [],
   "source": [
    "def matrixToText(matrix):\n",
    "    matrixSize=matrix.shape\n",
    "    rows=matrixSize[0]\n",
    "    columns=matrixSize[1]\n",
    "    text=''\n",
    "    \n",
    "    for i in range(rows):\n",
    "        for n in range(columns):\n",
    "            text=text+numberToLetter(matrix[i,n])\n",
    "            \n",
    "    return text"
   ]
  },
  {
   "cell_type": "markdown",
   "metadata": {},
   "source": [
    "STEP 6. Message encryption."
   ]
  },
  {
   "cell_type": "code",
   "execution_count": 24,
   "metadata": {},
   "outputs": [
    {
     "name": "stdout",
     "output_type": "stream",
     "text": [
      "************* ENCRYPTION'S START **************\n",
      "Message's Matrix  [[12.  9. 14.  5.  1. 19. 28.  1. 12.]\n",
      " [ 7.  5.  2. 19.  1. 28. 24.  9. 21.]\n",
      " [ 8. 28. 17. 26. 21.  8. 16. 14.  0.]]\n",
      "************* **************\n",
      "Encrypted message: [[ 83. 127.  89. 183.  70. 202. 224.  89. 129.]\n",
      " [ 49.  80.  54. 114.  46. 119. 132.  56.  75.]\n",
      " [110. 169. 122. 233.  93. 257. 292. 113. 162.]]\n",
      "************* **************\n",
      "Encrypted message normalized: [[25. 11.  2.  9. 12. 28. 21.  2. 13.]\n",
      " [20. 22. 25. 27. 17.  3. 16. 27. 17.]\n",
      " [23. 24.  6.  1.  6. 25.  2. 26. 17.]]\n",
      "************* **************\n",
      "Message encrypted: XKBIL TBMSUXZPCOZPVWFAFXBYP\n"
     ]
    }
   ],
   "source": [
    "res=messageToMatrix(message,matrixSize[0])\n",
    "\n",
    "print(\"************* ENCRYPTION'S START **************\")\n",
    "print(\"Message's Matrix \", res)\n",
    "\n",
    "#encrypt the message\n",
    "messageEncrypted=key*res\n",
    "\n",
    "print(\"************* **************\")\n",
    "print(\"Encrypted message:\", messageEncrypted)\n",
    "\n",
    "#as we do not have in the dictionary vaules greater than 29, we have to normalize to 29\n",
    "#applying the module of 29\n",
    "messageEncryptedNormalized=messageEncrypted%29\n",
    "print(\"************* **************\")\n",
    "print(\"Encrypted message normalized:\", messageEncryptedNormalized)\n",
    "\n",
    "#show the message encrypted\n",
    "print(\"************* **************\")\n",
    "print(\"Message encrypted:\",matrixToText(messageEncryptedNormalized))"
   ]
  },
  {
   "cell_type": "markdown",
   "metadata": {},
   "source": [
    "STEP 7. Decrypt the message. This method is based on the Hill's matrix encrypt method."
   ]
  },
  {
   "cell_type": "code",
   "execution_count": 25,
   "metadata": {},
   "outputs": [
    {
     "name": "stdout",
     "output_type": "stream",
     "text": [
      "************* DECRYPTION'S START **************\n",
      "Key's determinant value:  1\n",
      "************* **************\n",
      "Key's determinant value with module 29:  1\n",
      "************* **************\n",
      "Key's inverse matrix: [[-0. -2.  1.]\n",
      " [ 2. -1. -1.]\n",
      " [-3.  3.  1.]]\n",
      "************* **************\n",
      "Key's inverse determinant value:  0\n",
      "************* **************\n",
      "Decrypted marix's message [[12.  9. 14.  5.  1. 19. 28.  1. 12.]\n",
      " [ 7.  5.  2. 19.  1. 28. 24.  9. 21.]\n",
      " [ 8. 28. 17. 26. 21.  8. 16. 14.  0.]]\n",
      "************* **************\n",
      "Decrypted message: LINEAR ALGEBRA WITH PYTHON\n"
     ]
    }
   ],
   "source": [
    "print(\"************* DECRYPTION'S START **************\")\n",
    "\n",
    "#we need to know the key's determinant value, pass it to module of 29\n",
    "keyDeterminantValue=int(np.linalg.det(key))\n",
    "print(\"Key's determinant value: \", keyDeterminantValue)\n",
    "\n",
    "x= keyDeterminantValue%29\n",
    "print(\"************* **************\")\n",
    "print(\"Key's determinant value with module 29: \",x)\n",
    "\n",
    "#key's inverse matrix for decrypt the message\n",
    "keyInverseMatrix = np.matrix.round(np.linalg.inv(key))\n",
    "print(\"************* **************\")\n",
    "print(\"Key's inverse matrix:\", keyInverseMatrix)\n",
    "\n",
    "keyInverseDeterminantValue=int(np.linalg.det(keyInverseMatrix))\n",
    "print(\"************* **************\")\n",
    "print(\"Key's inverse determinant value: \", keyInverseDeterminantValue)\n",
    "\n",
    "#get the original message applying module of 29 to the key's inverse matrix,\n",
    "#multiply it by the matrix that holds the ecrypted message\n",
    "#apply to all the module of 29\n",
    "originalMessage = (keyInverseMatrix%29 * messageEncryptedNormalized)%29\n",
    "print(\"************* **************\")\n",
    "print(\"Decrypted marix's message\", originalMessage)\n",
    "\n",
    "print(\"************* **************\")\n",
    "print(\"Decrypted message:\",matrixToText(originalMessage))"
   ]
  }
 ],
 "metadata": {
  "kernelspec": {
   "display_name": "Python 3",
   "language": "python",
   "name": "python3"
  },
  "language_info": {
   "codemirror_mode": {
    "name": "ipython",
    "version": 3
   },
   "file_extension": ".py",
   "mimetype": "text/x-python",
   "name": "python",
   "nbconvert_exporter": "python",
   "pygments_lexer": "ipython3",
   "version": "3.7.0"
  }
 },
 "nbformat": 4,
 "nbformat_minor": 2
}
